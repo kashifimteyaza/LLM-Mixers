{
  "cells": [
    {
      "cell_type": "code",
      "execution_count": null,
      "metadata": {
        "id": "esgsNiY-4WwA"
      },
      "outputs": [],
      "source": [
        "!pip install \"unsloth[colab] @ git+https://github.com/unslothai/unsloth.git\" --q\n",
        "\n",
        "import torch\n",
        "from unsloth import FastLanguageModel\n",
        "\n",
        "# Check CUDA compatibility\n",
        "major_version, minor_version = torch.cuda.get_device_capability()\n",
        "\n",
        "# Instantiate FastLanguageModel\n",
        "max_seq_length = 2048\n",
        "dtype = None\n",
        "load_in_4bit = True\n",
        "\n",
        "model, tokenizer = FastLanguageModel.from_pretrained(\n",
        "    model_name=\"google/gemma-2b-it\",\n",
        "    max_seq_length=4096,\n",
        "    dtype=dtype,\n",
        "    load_in_4bit=load_in_4bit,\n",
        ")"
      ]
    },
    {
      "cell_type": "markdown",
      "metadata": {
        "id": "w6pqunXe41Yx"
      },
      "source": [
        "**Using Partial Embedding Fine-Tuning**- It selectively fine-tunes a limited number of additional model parameters while keeping the majority of pretrained LLM parameters frozen!"
      ]
    },
    {
      "cell_type": "code",
      "execution_count": null,
      "metadata": {
        "id": "g8bHY4u75I0x"
      },
      "outputs": [],
      "source": [
        "model = FastLanguageModel.get_peft_model(\n",
        "    model,\n",
        "    r=16,\n",
        "    target_modules=[\"q_proj\", \"k_proj\", \"v_proj\", \"o_proj\", \"gate_proj\", \"up_proj\", \"down_proj\"],\n",
        "    lora_alpha=16,\n",
        "    lora_dropout=0,\n",
        "    bias=\"none\",\n",
        "    use_gradient_checkpointing=True,\n",
        "    random_state=3407,\n",
        "    use_rslora=False,\n",
        "    loftq_config=None,\n",
        ")"
      ]
    },
    {
      "cell_type": "code",
      "execution_count": null,
      "metadata": {
        "id": "v2ilz-yx_HiM"
      },
      "outputs": [],
      "source": [
        "prompt = \"\"\"Based on given instruction and context, generate an appropriate response\n",
        "\n",
        "### Instruction:\n",
        "{}\n",
        "\n",
        "### Context:\n",
        "{}\n",
        "\n",
        "### Response:\n",
        "{}\n",
        "\"\"\"\n",
        "\n",
        "EOS_TOKEN = tokenizer.eos_token #\n",
        "def formatting_prompts_func(examples):\n",
        "    instructions = examples[\"instruction\"]\n",
        "    contexts = examples[\"context\"]\n",
        "    responses = examples[\"response\"]\n",
        "    texts = []\n",
        "\n",
        "    for i,j,k  in zip(instructions, contexts,responses):\n",
        "        text = prompt.format(i,j,k) + EOS_TOKEN\n",
        "        texts.append(text)\n",
        "    return { \"text\" : texts, }\n",
        "pass\n",
        "\n",
        "from datasets import load_dataset\n",
        "ds = load_dataset(\"Imteyazk/CoT-filtered\", split= \"train\")\n",
        "dataset = dataset.map(formatting_prompts_func, batched = True)"
      ]
    },
    {
      "cell_type": "code",
      "execution_count": null,
      "metadata": {
        "id": "3r-3C0Cj_vQn"
      },
      "outputs": [],
      "source": [
        "from trl import SFTTrainer\n",
        "from transformers import TrainingArguments\n",
        "\n",
        "trainer = SFTTrainer(\n",
        "    model = model,\n",
        "    tokenizer = tokenizer,\n",
        "    train_dataset = dataset,\n",
        "    dataset_text_field = \"text\",\n",
        "    max_seq_length = max_seq_length,\n",
        "    dataset_num_proc = 2,\n",
        "    packing = False,\n",
        "    args = TrainingArguments(\n",
        "        per_device_train_batch_size = 2,\n",
        "        gradient_accumulation_steps = 4,\n",
        "        warmup_steps = 2,\n",
        "        max_steps = 10,\n",
        "        learning_rate = 0.0005,\n",
        "        fp16 = not torch.cuda.is_bf16_supported(),\n",
        "        bf16 = torch.cuda.is_bf16_supported(),\n",
        "        logging_steps = 1,\n",
        "        optim = \"adamw_8bit\",\n",
        "        weight_decay = 0.01,\n",
        "        lr_scheduler_type = \"linear\",\n",
        "        seed = 3407,\n",
        "        output_dir = \"outputs\",\n",
        "    ),\n",
        ")\n",
        "\n",
        "# Training\n",
        "trainer_stats = trainer.train()"
      ]
    },
    {
      "cell_type": "code",
      "execution_count": null,
      "metadata": {
        "id": "V288GuppDIqO"
      },
      "outputs": [],
      "source": [
        "from transformers import AutoTokenizer\n",
        "from unsloth import FastLanguageModel  # Import FastLanguageModel directly if we intend to use it for inference\n",
        "from transformers import TextStreamer\n",
        "\n",
        "# Load model and tokenizer directly with FastLanguageModel for compatibility\n",
        "tokenizer = AutoTokenizer.from_pretrained(\"google/gemma-2b-it\")\n",
        "model = FastLanguageModel.from_pretrained(\"google/gemma-2b-it\")  # Load model with FastLanguageModel\n",
        "\n",
        "# Set up text input\n",
        "text = \"In the early 1930s, The Great Depression led to a decline in global economic activity.\"\n",
        "\n",
        "# Tokenize the input\n",
        "inputs = tokenizer(text, return_tensors=\"pt\")\n",
        "\n",
        "# Use model directly in inference mode (FastLanguageModel already handles inference)\n",
        "text_streamer = TextStreamer(tokenizer)  # Set up the text streamer\n",
        "\n",
        "# Generate text and display output\n",
        "output = model.generate(inputs['input_ids'], streamer=text_streamer, max_new_tokens=1028)\n",
        "print(tokenizer.decode(output[0], skip_special_tokens=True))  # Decode and print the generated text\n"
      ]
    }
  ],
  "metadata": {
    "accelerator": "GPU",
    "colab": {
      "gpuType": "T4",
      "toc_visible": true,
      "provenance": [],
      "authorship_tag": "ABX9TyNqIVRPV62Q6DwGLm40u/7G"
    },
    "kernelspec": {
      "display_name": "Python 3",
      "name": "python3"
    },
    "language_info": {
      "name": "python"
    }
  },
  "nbformat": 4,
  "nbformat_minor": 0
}